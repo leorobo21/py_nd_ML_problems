{
 "cells": [
  {
   "cell_type": "code",
   "execution_count": null,
   "metadata": {},
   "outputs": [],
   "source": [
    "                            # ------------numpy assignment-----------#"
   ]
  },
  {
   "cell_type": "code",
   "execution_count": null,
   "metadata": {},
   "outputs": [],
   "source": [
    "\n",
    "#---------1st problem-----------#\n",
    "'''\n",
    "----function to convert columns of the output matrix are powers of the input vector.----\n",
    "    \n",
    "    The order of the powers is determined by the increasing boolean argument. Specifically, when \n",
    "    increasing is False, the i-th output column is the input vector raised element-wise to the power \n",
    "    of N - i - 1.\n",
    "    \n",
    "    ****Created based on the vandermonde matrix******.\n",
    "'''\n",
    "import numpy as np\n",
    "def vander(vector,N=None,increasing=False):\n",
    "    vl = len(vector)\n",
    "    def custom(mat,r,c):\n",
    "        for i in range(r):\n",
    "            for j in range(c-1,-1,-1):\n",
    "                mat[i][j] = vector[i]**j\n",
    "        if(increasing==True):\n",
    "            return mat\n",
    "        else:\n",
    "            return np.flip(mat,axis=1)\n",
    "    \n",
    "    if (N==None):\n",
    "        mat=np.ones((vl,vl),dtype=int)\n",
    "        return custom(mat,r=vl,c=vl)\n",
    "    else:\n",
    "        mat=np.ones((vl,N),dtype=int)\n",
    "        return custom(mat,r=vl,c=N)\n",
    "    \n",
    "# Sample input\n",
    "vector=[5,4,2]\n",
    "t=4\n",
    "vander(vector,t,increasing=False) #calling function"
   ]
  },
  {
   "cell_type": "code",
   "execution_count": null,
   "metadata": {},
   "outputs": [],
   "source": [
    "#---------2nd problem-----------#\n",
    "'''\n",
    "Function to find moving averages\n",
    "'''\n",
    "import numpy as np\n",
    "\n",
    "def moving_average(l,w):\n",
    "    MA = np.array([])\n",
    "    f=w\n",
    "    MA_V = len(l)-w+1\n",
    "    for i in range(MA_V):\n",
    "        Avg=0\n",
    "        for j in range(i,w):\n",
    "            Avg=Avg+l[j]\n",
    "        avg_l = Avg/f\n",
    "        MA = np.append(MA,avg_l)\n",
    "        if(i == MA_V):\n",
    "            break\n",
    "        w+=1\n",
    "    return MA\n",
    "\n",
    "#Sample Input\n",
    "sequence= [3, 5, 7, 2, 8, 10, 11, 65, 72, 81, 99, 100, 150]\n",
    "window_size=3\n",
    "\n",
    "moving_average(sequence,window_size)#calling function \n",
    "    \n",
    "    "
   ]
  }
 ],
 "metadata": {
  "kernelspec": {
   "display_name": "Python 3",
   "language": "python",
   "name": "python3"
  },
  "language_info": {
   "codemirror_mode": {
    "name": "ipython",
    "version": 3
   },
   "file_extension": ".py",
   "mimetype": "text/x-python",
   "name": "python",
   "nbconvert_exporter": "python",
   "pygments_lexer": "ipython3",
   "version": "3.8.1"
  }
 },
 "nbformat": 4,
 "nbformat_minor": 4
}
