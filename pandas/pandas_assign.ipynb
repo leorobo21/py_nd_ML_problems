{
 "cells": [
  {
   "cell_type": "code",
   "execution_count": null,
   "metadata": {},
   "outputs": [],
   "source": [
    "import pandas as pd\n",
    "import numpy as np"
   ]
  },
  {
   "cell_type": "code",
   "execution_count": null,
   "metadata": {},
   "outputs": [],
   "source": [
    "## Creating a DataFrame"
   ]
  },
  {
   "cell_type": "code",
   "execution_count": null,
   "metadata": {},
   "outputs": [],
   "source": [
    "df = pd.DataFrame({'From_To': ['LoNDon_paris', 'MAdrid_miLAN',\n",
    "'londON_StockhOlm','Budapest_PaRis', 'Brussels_londOn'],\n",
    "'FlightNumber': [10045, np.nan, 10065, np.nan, 10085],\n",
    "'RecentDelays': [[23, 47], [], [24, 43, 87], [13], [67, 32]],\n",
    "'Airline': ['KLM(!)', '<Air France> (12)', '(British Airways. )',\n",
    "'12. Air France', '\"Swiss Air\"']})"
   ]
  },
  {
   "cell_type": "code",
   "execution_count": null,
   "metadata": {},
   "outputs": [],
   "source": [
    "##-----------------------first problem ----------------------##\n",
    "\n",
    "## finding null values in FlightNumber column\n",
    "missing=np.where(df['FlightNumber'].isnull()==True)\n",
    "                                          \n",
    "## Replacing Null values with addition of 10 to the previous row value\n",
    "for i in range(0,len(missing[0])):\n",
    "    store = missing[0][i]\n",
    "    df['FlightNumber'][store] = df['FlightNumber'][store-1]+10\n",
    "\n",
    "### converting float column to integer column    \n",
    "df['FlightNumber']=df['FlightNumber'].astype(\"int32\")\n",
    "\n",
    "# output\n",
    "df[['FlightNumber']]\n"
   ]
  },
  {
   "cell_type": "code",
   "execution_count": null,
   "metadata": {
    "scrolled": true
   },
   "outputs": [],
   "source": [
    "##-----------------------Second Problem-------------------------##\n",
    "# Creating a temporary Dataframe\n",
    "df1 = df[[\"From_To\"]].copy()\n",
    "\n",
    "#------------- Splitting and assigning correct names to two columns---------# \n",
    "\n",
    "# df1[\"From\"]=df1[\"To\"]=np.nan\n",
    "# for i in range(0,len(df1[\"From_To\"])):\n",
    "#     df1[\"From\"][i] = df1[\"From_To\"][i].split(\"_\")[0]\n",
    "#     df1[\"To\"][i] = df[\"From_To\"][i].split(\"_\")[1]\n",
    "# df1.drop(labels=\"From_To\",axis=1)\n",
    "\n",
    "###############   OR   #############\n",
    "\n",
    "def From(x):\n",
    "    return x.split(\"_\")[0]\n",
    "def To(x):\n",
    "    return x.split(\"_\")[1]\n",
    "\n",
    "df1[\"From\"] = df1[\"From_To\"].apply(From)\n",
    "df1[\"To\"] = df1[\"From_To\"].apply(To)\n",
    "df1.drop(columns=\"From_To\",inplace=True)\n",
    "\n",
    "## Output\n",
    "df1"
   ]
  },
  {
   "cell_type": "code",
   "execution_count": null,
   "metadata": {},
   "outputs": [],
   "source": [
    "##-----------Third Problem-----------##\n",
    "\n",
    "## Capitalizing first letter in both columns\n",
    "df1[\"From\"]=df1[\"From\"].str.capitalize()\n",
    "df1[\"To\"]=df1[\"To\"].str.capitalize()\n",
    "\n",
    "### Output\n",
    "df1"
   ]
  },
  {
   "cell_type": "code",
   "execution_count": null,
   "metadata": {},
   "outputs": [],
   "source": [
    "##-----------Fourth Problem-----------##\n",
    "\n",
    "# Deleteing \"From_To column\"\n",
    "df.drop(columns=\"From_To\",inplace=True)\n",
    "\n",
    "# Combining both dataframes\n",
    "df = pd.concat([df1,df],axis=1)\n",
    "\n",
    "#### Output\n",
    "del df1\n",
    "df"
   ]
  },
  {
   "cell_type": "code",
   "execution_count": null,
   "metadata": {
    "scrolled": true
   },
   "outputs": [],
   "source": [
    "## ----------- Fifth Problem------------##\n",
    "\n",
    "# Creating temporary data frame\n",
    "delays = df[[\"RecentDelays\"]]\n",
    "max_len = 0\n",
    "for i in delays[\"RecentDelays\"]:\n",
    "    if(len(i)>max_len):\n",
    "        max_len = len(i)\n",
    "for i in range(max_len):\n",
    "    delays[f\"delays_{i+1}\"]=np.nan\n",
    "    \n",
    "temp = 0\n",
    "for i in delays[\"RecentDelays\"]:\n",
    "    for j in range(len(i)):\n",
    "        delays[f\"delays_{j+1}\"][temp]=i[j]\n",
    "    temp = temp+1\n",
    "delays.drop(columns=\"RecentDelays\",inplace=True)\n",
    "\n",
    "col = delays.columns.to_list()\n",
    "pos = 3\n",
    "for i in col:\n",
    "    df.insert(pos,i,delays[i])\n",
    "    pos +=1\n",
    "df.drop(\"RecentDelays\",axis=1,inplace=True)\n",
    "del delays\n",
    "##### Output\n",
    "df"
   ]
  }
 ],
 "metadata": {
  "kernelspec": {
   "display_name": "Python 3",
   "language": "python",
   "name": "python3"
  },
  "language_info": {
   "codemirror_mode": {
    "name": "ipython",
    "version": 3
   },
   "file_extension": ".py",
   "mimetype": "text/x-python",
   "name": "python",
   "nbconvert_exporter": "python",
   "pygments_lexer": "ipython3",
   "version": "3.8.1"
  }
 },
 "nbformat": 4,
 "nbformat_minor": 4
}
