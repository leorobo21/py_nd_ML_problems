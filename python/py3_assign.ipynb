{
 "cells": [
  {
   "cell_type": "code",
   "execution_count": null,
   "metadata": {},
   "outputs": [],
   "source": [
    "#----problem 1.1 myreduce function------#\n",
    "\n",
    "def myreduce(function, sequence, start=None):\n",
    "\tfirst = iter(sequence)\n",
    "\tif start is None:\n",
    "\t\tval = next(first)\n",
    "\telse:\n",
    "\t\tval = start\n",
    "\tfor i in first:\n",
    "\t\tval = function(val, i)\n",
    "\treturn val\n",
    "\n",
    "# Example function\n",
    "def double(x,y):\n",
    "\treturn x+y\n",
    "\n",
    "# Example Output\n",
    "print(myreduce(double,[2,5,8,4]))"
   ]
  },
  {
   "cell_type": "code",
   "execution_count": null,
   "metadata": {},
   "outputs": [],
   "source": [
    "#----problem 1.2 myfilter function------#\n",
    "\n",
    "def myfilter(function, sequence):\n",
    "\tstore = [i for i in sequence if function(i)]\n",
    "\treturn store\n",
    "\n",
    "# Example function\n",
    "def filtvowl(word):\n",
    "\tvowl = ['a','e','i','o','u']\n",
    "\tif(word in vowl):\n",
    "\t\treturn True\n",
    "\telse:\n",
    "\t\treturn False\n",
    "\n",
    "sequence = ['a','r','t','e']\n",
    "\n",
    "# Example Output\n",
    "print(myfilter(filtvowl,sequence))"
   ]
  },
  {
   "cell_type": "code",
   "execution_count": null,
   "metadata": {},
   "outputs": [],
   "source": [
    "#----problem 2  List comprehensions ------#\n",
    "\n",
    "str1 = ['x','y','z']\n",
    "str2 = [1,2,3,4]\n",
    "\n",
    "print([i*j for i in str1 for j in range(1,5)])#1st\n",
    "\n",
    "print([i*j for i in range(1,5) for j in str1])#2nd\n",
    "\n",
    "print([[j+i] for i in range(1,4) for j in str2[0:-1]])#3rd\n",
    "\n",
    "print([[j+i for i in str2] for j in range(1,5)])#4rth\n",
    "\n",
    "print([(j,i) for i in str2[0:-1] for j in range(1,4)])#5th"
   ]
  }
 ],
 "metadata": {
  "kernelspec": {
   "display_name": "Python 3",
   "language": "python",
   "name": "python3"
  },
  "language_info": {
   "codemirror_mode": {
    "name": "ipython",
    "version": 3
   },
   "file_extension": ".py",
   "mimetype": "text/x-python",
   "name": "python",
   "nbconvert_exporter": "python",
   "pygments_lexer": "ipython3",
   "version": "3.8.1"
  }
 },
 "nbformat": 4,
 "nbformat_minor": 4
}
