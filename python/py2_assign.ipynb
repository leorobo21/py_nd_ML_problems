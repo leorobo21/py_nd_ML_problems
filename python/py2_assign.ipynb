{
 "cells": [
  {
   "cell_type": "code",
   "execution_count": null,
   "metadata": {},
   "outputs": [],
   "source": [
    "#--------------1st program---------------\n",
    "for i in range(5):\n",
    "\tfor j in range(i+1):\n",
    "\t\tprint(\"*\",end=\"\")\n",
    "\tprint(\" \")\n",
    "for i in range(5):\n",
    "\tfor j in range(i,4):\n",
    "\t\tprint(\"*\",end=\"\")\n",
    "\tprint(\" \")"
   ]
  },
  {
   "cell_type": "code",
   "execution_count": null,
   "metadata": {},
   "outputs": [],
   "source": [
    "#--------------2nd Problem--------------------\n",
    "reverse = input(\"Input Word: \")\n",
    "print(\"Output : \", end=\"\")\n",
    "for x in range(len(reverse)-1,-1,-1):\n",
    "\tprint(reverse[x], end=\"\")"
   ]
  }
 ],
 "metadata": {
  "kernelspec": {
   "display_name": "Python 3",
   "language": "python",
   "name": "python3"
  },
  "language_info": {
   "codemirror_mode": {
    "name": "ipython",
    "version": 3
   },
   "file_extension": ".py",
   "mimetype": "text/x-python",
   "name": "python",
   "nbconvert_exporter": "python",
   "pygments_lexer": "ipython3",
   "version": "3.8.1"
  }
 },
 "nbformat": 4,
 "nbformat_minor": 4
}
