{
 "cells": [
  {
   "cell_type": "code",
   "execution_count": null,
   "metadata": {},
   "outputs": [],
   "source": [
    "# 1.1 Python Program(with class concepts) to find the area of the triangle.\n",
    "class Dimensions:\n",
    "    def __init__(self):\n",
    "        self.a = int(input(\"enter length of side1: \"))\n",
    "        self.b = int(input(\"enter length of side2: \"))\n",
    "        self.c = int(input(\"enter length of side3: \"))\n",
    "\n",
    "class Area(Dimensions):\n",
    "        \n",
    "    def __init__(self):\n",
    "        Dimensions.__init__(self)\n",
    "        self.s = (self.a+self.b+self.c)/2\n",
    "        self.Area = (self.s*((self.s-self.a)*(self.s-self.b)*(self.s-self.c)))**0.5\n",
    "    def __str__(self):\n",
    "        return \"%f\"%(self.Area)\n",
    "if __name__ == '__main__':\n",
    "    print(\"Enter sides of a triangle to find it's area\")\n",
    "    print(\"Area of a Triangle = \",Area())"
   ]
  },
  {
   "cell_type": "code",
   "execution_count": null,
   "metadata": {},
   "outputs": [],
   "source": [
    "# 1.2 function to filter_long_words() that takes a list of words and an integer n and returns \n",
    "# the list of words that are longer than n.\n",
    "\n",
    "def filter_long_words(l,n):\n",
    "    return [i for i in l if len(i)>n]\n",
    "\n",
    "l = [i for i in input(\"enter words: \").split(\" \")]\n",
    "n = int(input(\"length: \"))\n",
    "filter_long_words(l,n)\n",
    "            \n",
    "    "
   ]
  },
  {
   "cell_type": "code",
   "execution_count": null,
   "metadata": {},
   "outputs": [],
   "source": [
    "# 2.1 Python program using function concept that maps list of words into a list of integers \n",
    "# representing the lengths of the corresponding words.\n",
    "\n",
    "def words_to_integers(l):\n",
    "    return [len(i) for i in l]\n",
    "\n",
    "l = [i for i in input(\"enter words: \").split(\" \")]\n",
    "words_to_integers(l)"
   ]
  },
  {
   "cell_type": "code",
   "execution_count": null,
   "metadata": {},
   "outputs": [],
   "source": [
    "# Python function which takes a character (i.e. a string of length 1) and returns True if \n",
    "# it is a vowel, False otherwise\n",
    "\n",
    "def vowel_or_not(c):\n",
    "    c=c.lower()\n",
    "    check = ['a','e','i','o','u']\n",
    "    if c in check:\n",
    "        return True\n",
    "    else:\n",
    "        return False\n",
    "\n",
    "vowel_or_not('g')"
   ]
  }
 ],
 "metadata": {
  "kernelspec": {
   "display_name": "Python 3",
   "language": "python",
   "name": "python3"
  },
  "language_info": {
   "codemirror_mode": {
    "name": "ipython",
    "version": 3
   },
   "file_extension": ".py",
   "mimetype": "text/x-python",
   "name": "python",
   "nbconvert_exporter": "python",
   "pygments_lexer": "ipython3",
   "version": "3.8.1"
  }
 },
 "nbformat": 4,
 "nbformat_minor": 4
}
